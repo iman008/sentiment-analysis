{
 "cells": [
  {
   "cell_type": "markdown",
   "id": "6f71919a-3dc8-4d45-91fb-e31cbc3694d2",
   "metadata": {},
   "source": [
    "# Sentiment Analysis"
   ]
  },
  {
   "cell_type": "markdown",
   "id": "63e865c5-f3cb-44b9-902c-db858eacc23a",
   "metadata": {},
   "source": [
    "## Imports"
   ]
  },
  {
   "cell_type": "code",
   "execution_count": 23,
   "id": "82033383-fb9e-4459-9e29-e092c71ef47b",
   "metadata": {},
   "outputs": [],
   "source": [
    "import pandas as pd"
   ]
  },
  {
   "cell_type": "markdown",
   "id": "117be7b3-3fa3-4bd9-abd8-3b6b86059f7e",
   "metadata": {},
   "source": [
    "## Loading Data"
   ]
  },
  {
   "cell_type": "code",
   "execution_count": 24,
   "id": "c45f0b55-dd5f-48ce-99af-d736593452bf",
   "metadata": {},
   "outputs": [],
   "source": [
    "df = pd.read_csv(\"data/raw.csv\")"
   ]
  },
  {
   "cell_type": "code",
   "execution_count": 25,
   "id": "afbc135c-20d9-4fd3-9672-2ee678064e29",
   "metadata": {},
   "outputs": [
    {
     "data": {
      "text/html": [
       "<div>\n",
       "<style scoped>\n",
       "    .dataframe tbody tr th:only-of-type {\n",
       "        vertical-align: middle;\n",
       "    }\n",
       "\n",
       "    .dataframe tbody tr th {\n",
       "        vertical-align: top;\n",
       "    }\n",
       "\n",
       "    .dataframe thead th {\n",
       "        text-align: right;\n",
       "    }\n",
       "</style>\n",
       "<table border=\"1\" class=\"dataframe\">\n",
       "  <thead>\n",
       "    <tr style=\"text-align: right;\">\n",
       "      <th></th>\n",
       "      <th>reviewText</th>\n",
       "      <th>Sentiment</th>\n",
       "    </tr>\n",
       "  </thead>\n",
       "  <tbody>\n",
       "    <tr>\n",
       "      <th>0</th>\n",
       "      <td>This is a one of the best apps acording to a b...</td>\n",
       "      <td>Positive</td>\n",
       "    </tr>\n",
       "    <tr>\n",
       "      <th>1</th>\n",
       "      <td>This is a pretty good version of the game for ...</td>\n",
       "      <td>Positive</td>\n",
       "    </tr>\n",
       "    <tr>\n",
       "      <th>2</th>\n",
       "      <td>this is a really cool game. there are a bunch ...</td>\n",
       "      <td>Positive</td>\n",
       "    </tr>\n",
       "    <tr>\n",
       "      <th>3</th>\n",
       "      <td>This is a silly game and can be frustrating, b...</td>\n",
       "      <td>Positive</td>\n",
       "    </tr>\n",
       "    <tr>\n",
       "      <th>4</th>\n",
       "      <td>This is a terrific game on any pad. Hrs of fun...</td>\n",
       "      <td>Positive</td>\n",
       "    </tr>\n",
       "  </tbody>\n",
       "</table>\n",
       "</div>"
      ],
      "text/plain": [
       "                                          reviewText Sentiment\n",
       "0  This is a one of the best apps acording to a b...  Positive\n",
       "1  This is a pretty good version of the game for ...  Positive\n",
       "2  this is a really cool game. there are a bunch ...  Positive\n",
       "3  This is a silly game and can be frustrating, b...  Positive\n",
       "4  This is a terrific game on any pad. Hrs of fun...  Positive"
      ]
     },
     "execution_count": 25,
     "metadata": {},
     "output_type": "execute_result"
    }
   ],
   "source": [
    "df.head()"
   ]
  },
  {
   "cell_type": "markdown",
   "id": "a3efcc4a-1d31-4375-9ef2-cca33635597e",
   "metadata": {},
   "source": [
    "## Data Preprocessing"
   ]
  },
  {
   "cell_type": "markdown",
   "id": "706c232b-0518-4618-863b-196a457b0668",
   "metadata": {},
   "source": [
    "### Numerical Normalization"
   ]
  },
  {
   "cell_type": "code",
   "execution_count": 26,
   "id": "ffe5980e-42fe-4ab0-b90c-ee6dd19fd5b8",
   "metadata": {},
   "outputs": [],
   "source": [
    "df.loc[df[\"Sentiment\"] == \"Positive\", \"Sentiment\"] = 1\n",
    "df.loc[df[\"Sentiment\"] == \"Negative\", \"Sentiment\"] = 0"
   ]
  },
  {
   "cell_type": "code",
   "execution_count": 35,
   "id": "7b9ea196-f749-4ae3-b50d-a5912deeeb98",
   "metadata": {},
   "outputs": [
    {
     "data": {
      "text/html": [
       "<div>\n",
       "<style scoped>\n",
       "    .dataframe tbody tr th:only-of-type {\n",
       "        vertical-align: middle;\n",
       "    }\n",
       "\n",
       "    .dataframe tbody tr th {\n",
       "        vertical-align: top;\n",
       "    }\n",
       "\n",
       "    .dataframe thead th {\n",
       "        text-align: right;\n",
       "    }\n",
       "</style>\n",
       "<table border=\"1\" class=\"dataframe\">\n",
       "  <thead>\n",
       "    <tr style=\"text-align: right;\">\n",
       "      <th></th>\n",
       "      <th>reviewText</th>\n",
       "      <th>Sentiment</th>\n",
       "    </tr>\n",
       "  </thead>\n",
       "  <tbody>\n",
       "    <tr>\n",
       "      <th>11456</th>\n",
       "      <td>I hav nt found a real use for this app,perhaps...</td>\n",
       "      <td>0</td>\n",
       "    </tr>\n",
       "    <tr>\n",
       "      <th>16528</th>\n",
       "      <td>Either that or we just could not figure out ho...</td>\n",
       "      <td>0</td>\n",
       "    </tr>\n",
       "    <tr>\n",
       "      <th>3253</th>\n",
       "      <td>had to remove it because it confused me. The d...</td>\n",
       "      <td>0</td>\n",
       "    </tr>\n",
       "    <tr>\n",
       "      <th>18614</th>\n",
       "      <td>Agree with the other reviewers - unresponsive ...</td>\n",
       "      <td>0</td>\n",
       "    </tr>\n",
       "    <tr>\n",
       "      <th>1544</th>\n",
       "      <td>I love this app! Not only because I can now fo...</td>\n",
       "      <td>1</td>\n",
       "    </tr>\n",
       "    <tr>\n",
       "      <th>12568</th>\n",
       "      <td>I wanted something like alt/tab on my android ...</td>\n",
       "      <td>1</td>\n",
       "    </tr>\n",
       "    <tr>\n",
       "      <th>15497</th>\n",
       "      <td>I am loving this app! UI is simple, functional...</td>\n",
       "      <td>1</td>\n",
       "    </tr>\n",
       "    <tr>\n",
       "      <th>13987</th>\n",
       "      <td>We have downloaded several drawing apps, but t...</td>\n",
       "      <td>1</td>\n",
       "    </tr>\n",
       "    <tr>\n",
       "      <th>9598</th>\n",
       "      <td>Currently, I am using it to keep my favorite g...</td>\n",
       "      <td>1</td>\n",
       "    </tr>\n",
       "    <tr>\n",
       "      <th>6668</th>\n",
       "      <td>this is a very useful app. we have used it suc...</td>\n",
       "      <td>1</td>\n",
       "    </tr>\n",
       "  </tbody>\n",
       "</table>\n",
       "</div>"
      ],
      "text/plain": [
       "                                              reviewText Sentiment\n",
       "11456  I hav nt found a real use for this app,perhaps...         0\n",
       "16528  Either that or we just could not figure out ho...         0\n",
       "3253   had to remove it because it confused me. The d...         0\n",
       "18614  Agree with the other reviewers - unresponsive ...         0\n",
       "1544   I love this app! Not only because I can now fo...         1\n",
       "12568  I wanted something like alt/tab on my android ...         1\n",
       "15497  I am loving this app! UI is simple, functional...         1\n",
       "13987  We have downloaded several drawing apps, but t...         1\n",
       "9598   Currently, I am using it to keep my favorite g...         1\n",
       "6668   this is a very useful app. we have used it suc...         1"
      ]
     },
     "execution_count": 35,
     "metadata": {},
     "output_type": "execute_result"
    }
   ],
   "source": [
    "df.sample(10, random_state = 1)"
   ]
  },
  {
   "cell_type": "markdown",
   "id": "dbf7485b-7ef6-4442-b8c1-2224745537be",
   "metadata": {},
   "source": [
    "### Splitting Data"
   ]
  },
  {
   "cell_type": "code",
   "execution_count": null,
   "id": "b8e1121b-3115-4d94-b6a3-ea55daa04c26",
   "metadata": {},
   "outputs": [],
   "source": []
  },
  {
   "cell_type": "markdown",
   "id": "528a0b53-f238-4e8c-bb3a-68f1d4d73e16",
   "metadata": {},
   "source": [
    "### Sentence Normalization"
   ]
  },
  {
   "cell_type": "code",
   "execution_count": null,
   "id": "b8e0e2f5-3858-49ac-a030-b70d7f650219",
   "metadata": {},
   "outputs": [],
   "source": []
  },
  {
   "cell_type": "markdown",
   "id": "dc582755-b0c2-4620-9fea-486e36032062",
   "metadata": {},
   "source": [
    "### Sentence Vectorization"
   ]
  },
  {
   "cell_type": "code",
   "execution_count": null,
   "id": "aab95a08-b2de-4130-bc6b-ba16ac4c7f87",
   "metadata": {},
   "outputs": [],
   "source": []
  },
  {
   "cell_type": "markdown",
   "id": "f96bd9b9-8ac5-4174-ae3f-1ee22903794c",
   "metadata": {},
   "source": [
    "## Models"
   ]
  },
  {
   "cell_type": "markdown",
   "id": "612d3953-4c25-4483-a5aa-1a796929196d",
   "metadata": {
    "tags": []
   },
   "source": [
    "### Naive Bayes"
   ]
  },
  {
   "cell_type": "markdown",
   "id": "8b9a9959-d30d-4d98-971a-d5607e1ae4bd",
   "metadata": {},
   "source": [
    "#### Construction"
   ]
  },
  {
   "cell_type": "code",
   "execution_count": null,
   "id": "434f6ec0-7b76-4382-aebc-2e6be35cbe40",
   "metadata": {},
   "outputs": [],
   "source": []
  },
  {
   "cell_type": "markdown",
   "id": "03dd2b89-3e06-4d28-a560-c2da36e7b756",
   "metadata": {},
   "source": [
    "#### Training"
   ]
  },
  {
   "cell_type": "code",
   "execution_count": null,
   "id": "96163034-ad92-4a97-b92a-f4ebe0206501",
   "metadata": {},
   "outputs": [],
   "source": []
  },
  {
   "cell_type": "markdown",
   "id": "06b7610f-4ad0-4148-b946-f9347bba086d",
   "metadata": {},
   "source": [
    "#### Evaluation"
   ]
  },
  {
   "cell_type": "code",
   "execution_count": null,
   "id": "5d033d91-0991-4855-b8f0-e2edb83d6dbb",
   "metadata": {},
   "outputs": [],
   "source": []
  },
  {
   "cell_type": "markdown",
   "id": "c1d03b82-4215-49a4-946b-89eef4c369d0",
   "metadata": {
    "tags": []
   },
   "source": [
    "### Logistic Regression"
   ]
  },
  {
   "cell_type": "markdown",
   "id": "9fb49ba6-59a4-4d0b-8e6c-6e35c2ae3d0e",
   "metadata": {},
   "source": [
    "#### Construction"
   ]
  },
  {
   "cell_type": "code",
   "execution_count": null,
   "id": "ad5fe465-f838-43fe-9898-7ca1ac328fd0",
   "metadata": {},
   "outputs": [],
   "source": []
  },
  {
   "cell_type": "markdown",
   "id": "6244e1ef-940e-49d1-83cd-f9cfb40aab19",
   "metadata": {},
   "source": [
    "#### Training"
   ]
  },
  {
   "cell_type": "code",
   "execution_count": null,
   "id": "b75fe975-e946-40b2-bdb7-a257e3c3e337",
   "metadata": {},
   "outputs": [],
   "source": []
  },
  {
   "cell_type": "markdown",
   "id": "c96c17e5-531f-4e5c-a0ca-ae1923d3f226",
   "metadata": {},
   "source": [
    "#### Evaluation"
   ]
  },
  {
   "cell_type": "code",
   "execution_count": null,
   "id": "cf87ed02-898f-45fe-b9ea-9a7d336ee2fb",
   "metadata": {},
   "outputs": [],
   "source": []
  },
  {
   "cell_type": "markdown",
   "id": "552a4a6f-69fe-4fd7-b452-b9bcec027e73",
   "metadata": {},
   "source": [
    "### K-Nearest Neighbors (KNN)"
   ]
  },
  {
   "cell_type": "markdown",
   "id": "8a69525b-7a3d-4099-a24c-caab936451e0",
   "metadata": {},
   "source": [
    "#### Construction"
   ]
  },
  {
   "cell_type": "code",
   "execution_count": null,
   "id": "5f5e1214-8cfc-40cd-8bff-d592faf97a7d",
   "metadata": {},
   "outputs": [],
   "source": []
  },
  {
   "cell_type": "markdown",
   "id": "99a4337b-f287-4218-b7b7-2a459d91a266",
   "metadata": {},
   "source": [
    "#### Training"
   ]
  },
  {
   "cell_type": "code",
   "execution_count": null,
   "id": "c95d81d3-b296-46f9-8b59-64523bd14a58",
   "metadata": {},
   "outputs": [],
   "source": []
  },
  {
   "cell_type": "markdown",
   "id": "13d8d72e-1e41-4499-86f9-2a04a1cfb4a9",
   "metadata": {},
   "source": [
    "#### Evaluation"
   ]
  },
  {
   "cell_type": "code",
   "execution_count": null,
   "id": "1349bd87-be7d-4af0-a020-2d5876671fba",
   "metadata": {},
   "outputs": [],
   "source": []
  },
  {
   "cell_type": "markdown",
   "id": "74aead22-5884-43f4-867b-650c8f0fdcaf",
   "metadata": {},
   "source": [
    "### Support Vector Machine (SVM)"
   ]
  },
  {
   "cell_type": "markdown",
   "id": "82667434-4c6a-4c3a-9097-37131fd3abb3",
   "metadata": {},
   "source": [
    "#### Construction"
   ]
  },
  {
   "cell_type": "code",
   "execution_count": null,
   "id": "12718590-57dd-42e1-8644-810b47e74f08",
   "metadata": {},
   "outputs": [],
   "source": []
  },
  {
   "cell_type": "markdown",
   "id": "86ea2823-0b9b-4645-9e68-6e3ef4d8d6f1",
   "metadata": {},
   "source": [
    "#### Training"
   ]
  },
  {
   "cell_type": "code",
   "execution_count": null,
   "id": "bd70fe41-e227-42ee-b294-ea7a76e3f3b3",
   "metadata": {},
   "outputs": [],
   "source": []
  },
  {
   "cell_type": "markdown",
   "id": "fc2c7005-083e-468c-9cc9-25f6a8532598",
   "metadata": {},
   "source": [
    "#### Evaluation"
   ]
  },
  {
   "cell_type": "code",
   "execution_count": null,
   "id": "99f3122c-a398-4924-a4eb-1ed2aee41844",
   "metadata": {},
   "outputs": [],
   "source": []
  },
  {
   "cell_type": "markdown",
   "id": "75a26890-ad09-4f5e-833a-ab405c502815",
   "metadata": {},
   "source": [
    "### Decision Tree"
   ]
  },
  {
   "cell_type": "markdown",
   "id": "d6d4fab6-a60a-4afd-9d3b-47697cb0a393",
   "metadata": {},
   "source": [
    "#### Construction"
   ]
  },
  {
   "cell_type": "code",
   "execution_count": null,
   "id": "6f8c289c-d62a-4e8d-a921-874eb263caca",
   "metadata": {},
   "outputs": [],
   "source": []
  },
  {
   "cell_type": "markdown",
   "id": "0f03e399-db5a-40d3-afb3-840ab137996e",
   "metadata": {},
   "source": [
    "#### Training"
   ]
  },
  {
   "cell_type": "code",
   "execution_count": null,
   "id": "7b4c3490-ac72-42d4-8b6d-b9c0bfc5260b",
   "metadata": {},
   "outputs": [],
   "source": []
  },
  {
   "cell_type": "markdown",
   "id": "ecab99b2-98c8-47ab-b5a1-13b3f8142b62",
   "metadata": {},
   "source": [
    "#### Evaluation"
   ]
  },
  {
   "cell_type": "code",
   "execution_count": null,
   "id": "7d7a0688-516d-4a1d-a1d2-b1ec858a6035",
   "metadata": {},
   "outputs": [],
   "source": []
  },
  {
   "cell_type": "markdown",
   "id": "8384fc32-959e-4fdf-9198-d6fb078abdd9",
   "metadata": {},
   "source": [
    "### Random Forest"
   ]
  },
  {
   "cell_type": "markdown",
   "id": "04b15bdb-ee83-4bd0-94a6-0b81f2a8e407",
   "metadata": {},
   "source": [
    "#### Construction"
   ]
  },
  {
   "cell_type": "code",
   "execution_count": null,
   "id": "cebe91e5-8361-4212-82bc-075d79f972de",
   "metadata": {},
   "outputs": [],
   "source": []
  },
  {
   "cell_type": "markdown",
   "id": "5f177747-ae10-4b70-825c-7984442af188",
   "metadata": {},
   "source": [
    "#### Training"
   ]
  },
  {
   "cell_type": "code",
   "execution_count": null,
   "id": "cebdb72a-e35e-4a37-9f07-dff9181bfdaa",
   "metadata": {},
   "outputs": [],
   "source": []
  },
  {
   "cell_type": "markdown",
   "id": "af8c8784-d60f-4ff8-8bee-4a419cd7a98e",
   "metadata": {},
   "source": [
    "#### Evaluation"
   ]
  },
  {
   "cell_type": "code",
   "execution_count": null,
   "id": "194134b7-6d32-4219-861f-a52636fa909e",
   "metadata": {},
   "outputs": [],
   "source": []
  },
  {
   "cell_type": "markdown",
   "id": "377430f1-3aec-4ebd-934f-0c2644b6abcd",
   "metadata": {},
   "source": [
    "### Artificial Neural Network (ANN)"
   ]
  },
  {
   "cell_type": "markdown",
   "id": "de623504-2029-48dd-b7be-125bde60be47",
   "metadata": {},
   "source": [
    "#### Construction"
   ]
  },
  {
   "cell_type": "code",
   "execution_count": null,
   "id": "202bec18-7d9a-411b-ad29-c61e3386830c",
   "metadata": {},
   "outputs": [],
   "source": []
  },
  {
   "cell_type": "markdown",
   "id": "35a98038-913d-424e-82c7-c7981c0a21e9",
   "metadata": {},
   "source": [
    "#### Training"
   ]
  },
  {
   "cell_type": "code",
   "execution_count": null,
   "id": "fa3a67eb-54ff-4a07-81aa-da3a67674abb",
   "metadata": {},
   "outputs": [],
   "source": []
  },
  {
   "cell_type": "markdown",
   "id": "12497eba-32b7-4bc4-86fc-d232923d2f76",
   "metadata": {},
   "source": [
    "#### Evaluation"
   ]
  },
  {
   "cell_type": "code",
   "execution_count": null,
   "id": "260cf931-49e8-48d1-960d-1251f885a733",
   "metadata": {},
   "outputs": [],
   "source": []
  },
  {
   "cell_type": "markdown",
   "id": "c5f39f21-d1c4-4c15-9714-75c9cbe65bb5",
   "metadata": {},
   "source": [
    "## Report"
   ]
  },
  {
   "cell_type": "markdown",
   "id": "c7f13a98-ce60-41fa-b1dc-be298328ff5d",
   "metadata": {},
   "source": []
  }
 ],
 "metadata": {
  "kernelspec": {
   "display_name": "Python 3 (ipykernel)",
   "language": "python",
   "name": "python3"
  },
  "language_info": {
   "codemirror_mode": {
    "name": "ipython",
    "version": 3
   },
   "file_extension": ".py",
   "mimetype": "text/x-python",
   "name": "python",
   "nbconvert_exporter": "python",
   "pygments_lexer": "ipython3",
   "version": "3.10.9"
  }
 },
 "nbformat": 4,
 "nbformat_minor": 5
}
